{
 "cells": [
  {
   "cell_type": "code",
   "execution_count": null,
   "metadata": {},
   "outputs": [],
   "source": [
    "import torch\n",
    "import torchvision.transforms as T\n",
    "from PIL import Image\n",
    "import numpy as np\n",
    "import matplotlib.pyplot as plt\n",
    "import os"
   ]
  },
  {
   "cell_type": "code",
   "execution_count": null,
   "metadata": {},
   "outputs": [],
   "source": [
    "# Load the pre-trained DeepLabV3 model\n",
    "model = torch.hub.load('pytorch/vision:v0.10.0', 'deeplabv3_resnet101', pretrained=True)\n",
    "model.eval()\n",
    "\n",
    "# Define the preprocessing transformation\n",
    "preprocess = T.Compose([\n",
    "    T.ToTensor(),\n",
    "    T.Normalize(mean=[0.485, 0.456, 0.406], std=[0.229, 0.224, 0.225])\n",
    "])\n",
    "\n",
    "def preprocess_image(image_path):\n",
    "    input_image = Image.open(image_path).convert(\"RGB\")\n",
    "    input_tensor = preprocess(input_image)\n",
    "    input_batch = input_tensor.unsqueeze(0)  # Create a mini-batch as expected by the model\n",
    "    return input_batch, input_image\n",
    "\n",
    "def segment_image(input_batch):\n",
    "    with torch.no_grad():\n",
    "        output = model(input_batch)['out'][0]\n",
    "    output_predictions = output.argmax(0).byte().cpu().numpy()\n",
    "    return output_predictions\n",
    "\n",
    "def apply_mask(image, mask, class_id=15):\n",
    "    binary_mask = (mask == class_id).astype(np.uint8)\n",
    "    masked_image = np.array(image) * np.expand_dims(binary_mask, axis=2)\n",
    "    return Image.fromarray(masked_image)\n"
   ]
  },
  {
   "cell_type": "code",
   "execution_count": null,
   "metadata": {},
   "outputs": [],
   "source": [
    "def process_and_visualize(image_folder):\n",
    "    segmented_folder = 'segmented_salamanders'\n",
    "    os.makedirs(segmented_folder, exist_ok=True)\n",
    "\n",
    "    image_paths = [os.path.join(image_folder, img) for img in os.listdir(image_folder)]\n",
    "\n",
    "    for image_path in image_paths:\n",
    "        input_batch, input_image = preprocess_image(image_path)\n",
    "        output_predictions = segment_image(input_batch)\n",
    "        masked_image = apply_mask(input_image, output_predictions)\n",
    "\n",
    "        segmented_image_path = os.path.join(segmented_folder, os.path.basename(image_path))\n",
    "        masked_image.save(segmented_image_path)\n",
    "        print(f\"Segmented image saved to {segmented_image_path}\")\n",
    "\n",
    "        # Display the original and masked images side by side\n",
    "        plt.figure(figsize=(12, 6))\n",
    "        plt.subplot(1, 2, 1)\n",
    "        plt.title(\"Original Image\")\n",
    "        plt.imshow(input_image)\n",
    "        plt.axis('off')\n",
    "\n",
    "        plt.subplot(1, 2, 2)\n",
    "        plt.title(\"Masked Image\")\n",
    "        plt.imshow(masked_image)\n",
    "        plt.axis('off')\n",
    "\n",
    "        plt.show()\n",
    "\n",
    "# Example usage\n",
    "image_folder = '../../../tfe_data/Building_images' \n",
    "process_and_visualize(image_folder)\n"
   ]
  }
 ],
 "metadata": {
  "kernelspec": {
   "display_name": ".venv",
   "language": "python",
   "name": "python3"
  },
  "language_info": {
   "codemirror_mode": {
    "name": "ipython",
    "version": 3
   },
   "file_extension": ".py",
   "mimetype": "text/x-python",
   "name": "python",
   "nbconvert_exporter": "python",
   "pygments_lexer": "ipython3",
   "version": "3.12.4"
  }
 },
 "nbformat": 4,
 "nbformat_minor": 2
}
